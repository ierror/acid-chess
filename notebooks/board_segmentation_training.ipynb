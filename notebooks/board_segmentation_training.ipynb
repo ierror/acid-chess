version https://git-lfs.github.com/spec/v1
oid sha256:a6d9fdcb5464d398554e3f193b5ef93c9fbdfb7b559749f6344ce36a2a129d13
size 10724
