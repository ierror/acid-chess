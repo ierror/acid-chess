version https://git-lfs.github.com/spec/v1
oid sha256:2c51b74df389d5dc8d212dfb542e4b0d0f3805d7b18cdb6c5a9cb477a10a475a
size 5177977
