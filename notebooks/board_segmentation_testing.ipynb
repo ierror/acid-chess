version https://git-lfs.github.com/spec/v1
oid sha256:b9e8584893eea069e18a85e80c90340efd0274cf6dc59c0e5c0356be590458b5
size 4646
