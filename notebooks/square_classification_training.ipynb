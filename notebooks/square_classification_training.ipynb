version https://git-lfs.github.com/spec/v1
oid sha256:c55dd71225b3dab427031d4caabcaea3c40a43e300acf54bdc175dcc42022a73
size 990386
