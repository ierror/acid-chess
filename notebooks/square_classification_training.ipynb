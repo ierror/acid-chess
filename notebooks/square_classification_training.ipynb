version https://git-lfs.github.com/spec/v1
oid sha256:f24367ab58cc1d56a4654586e8fe0d2a50cbb997afaa9e4a23f8890ebc341625
size 15057
