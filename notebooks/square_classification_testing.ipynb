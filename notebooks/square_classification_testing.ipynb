version https://git-lfs.github.com/spec/v1
oid sha256:6dd8d9b7e83e8de6616e3f31e47246bbedf0892a9398f939679b287910591a54
size 1019373
