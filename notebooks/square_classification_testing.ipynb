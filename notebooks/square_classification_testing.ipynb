version https://git-lfs.github.com/spec/v1
oid sha256:6d64271678b6fd7328b0f70a322f140ea27501b3018964628a2c6316634f84bf
size 1047587
